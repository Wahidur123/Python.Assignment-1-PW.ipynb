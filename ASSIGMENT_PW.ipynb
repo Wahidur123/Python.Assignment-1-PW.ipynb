{
  "nbformat": 4,
  "nbformat_minor": 0,
  "metadata": {
    "colab": {
      "provenance": []
    },
    "kernelspec": {
      "name": "python3",
      "display_name": "Python 3"
    },
    "language_info": {
      "name": "python"
    }
  },
  "cells": [
    {
      "cell_type": "code",
      "execution_count": null,
      "metadata": {
        "id": "8g1LzGVQ9Gcd"
      },
      "outputs": [],
      "source": [
        "#Q1.Explain the key features of Python that make it a popular choice for programming?\n",
        "\n",
        "##Python is widely regarded as a popular programming language due to several key features:\n",
        "\n",
        "#=.Readability and Simplicity: Python’s syntax is clear and concise, which makes it easy to read and write. This encourages good programming practices and allows new developers to learn quickly.\n",
        "#=.Strong in Data Science and Machine Learning: Python has become the go-to language for data science and machine learning due to libraries like Tens\n",
        "#=.Strong Community Support: Python has a large and active community that contributes to forums, documentation, and tutorials, making it easier for beginners to find help and resources.\n",
        "#=.Integration Capabilities: Python can easily integrate with other languages and technologies, making it a versatile choice for building complex applications."
      ]
    },
    {
      "cell_type": "markdown",
      "source": [],
      "metadata": {
        "id": "RLsvggfg-6an"
      }
    },
    {
      "cell_type": "markdown",
      "source": [
        "#Q2.Describe the role of predefined keywords in Python and provide examples of how they are used in a PROGRAM?\n",
        "ANS:Predefined keywords in Python are reserved words that have special meanings and purposes within the language. They cannot be used as identifiers (like variable names, function names, or class names). These keywords help define the structure and flow of the program, making it easier to write and understand code.\n",
        "Key Roles of Predefined Keywords:\n",
        "\n",
        "    Control Flow: Keywords like if, else, elif, for, while, and break are used to control the execution of code based on conditions and loops.\n",
        "\n",
        "    Function Definition: Keywords like def are used to define functions, while return is used to return values from them.\n",
        "\n",
        "    Class Definition: The keyword class is used to define classes in object-oriented programming.\n",
        "\n",
        "    Exception Handling: Keywords like try, except, finally, and raise are used to handle exceptions and errors gracefully.\n",
        "\n",
        "    Importing Modules: The keyword import is used to include external modules or libraries in your program.\n",
        "\n",
        "    Boolean Values: The keywords True and False represent boolean values in Python."
      ],
      "metadata": {
        "id": "MmgMqgv6_uUz"
      }
    },
    {
      "cell_type": "code",
      "source": [
        "if 3 > 2:\n",
        "    print(\"greater\")"
      ],
      "metadata": {
        "colab": {
          "base_uri": "https://localhost:8080/"
        },
        "id": "S9BMURVN7ky2",
        "outputId": "de869c92-1cf3-4606-d26b-e04b40d3e95c"
      },
      "execution_count": null,
      "outputs": [
        {
          "output_type": "stream",
          "name": "stdout",
          "text": [
            "greater\n"
          ]
        }
      ]
    },
    {
      "cell_type": "code",
      "source": [
        "a = 100\n",
        "if a > 0:\n",
        "    print(\"The number is grater than 0.\")"
      ],
      "metadata": {
        "colab": {
          "base_uri": "https://localhost:8080/"
        },
        "id": "OC1M14A08O7q",
        "outputId": "999aa35c-dd05-40ba-9660-7627379361e2"
      },
      "execution_count": null,
      "outputs": [
        {
          "output_type": "stream",
          "name": "stdout",
          "text": [
            "The number is grater than 0.\n"
          ]
        }
      ]
    },
    {
      "cell_type": "markdown",
      "source": [
        " ##Q3.Compare and contrast mutable and immutable objects in Python with examples?\n",
        "  \n",
        "ANS:Mutable Objects\n",
        "\n",
        "Mutable objects are those that can be modified after they are created. This means you can change their content, size, or structure without creating a new object.\n"
      ],
      "metadata": {
        "id": "4dWDRnVm-pAI"
      }
    },
    {
      "cell_type": "code",
      "source": [
        "list_cont = [1, 2, 3, 4.3, 3+5j, True, \"WAHID\"]\n",
        "list_cont"
      ],
      "metadata": {
        "colab": {
          "base_uri": "https://localhost:8080/"
        },
        "id": "nT4ZDVzeeNL3",
        "outputId": "6b0c4605-29e5-4358-c571-cdcd49f06afe"
      },
      "execution_count": null,
      "outputs": [
        {
          "output_type": "execute_result",
          "data": {
            "text/plain": [
              "[1, 2, 3, 4.3, (3+5j), True, 'WAHID']"
            ]
          },
          "metadata": {},
          "execution_count": 2
        }
      ]
    },
    {
      "cell_type": "code",
      "source": [
        "#mutability\n",
        "list_cont[6] = \"RAHAMAN\""
      ],
      "metadata": {
        "id": "_yCAt7G0eWU8"
      },
      "execution_count": null,
      "outputs": []
    },
    {
      "cell_type": "code",
      "source": [
        "list_cont"
      ],
      "metadata": {
        "colab": {
          "base_uri": "https://localhost:8080/"
        },
        "id": "CkaYXm8NeuzF",
        "outputId": "ac93d688-62f9-46ac-dd9a-920788c02a72"
      },
      "execution_count": null,
      "outputs": [
        {
          "output_type": "execute_result",
          "data": {
            "text/plain": [
              "[1, 2, 3, 4.3, (3+5j), True, 'RAHAMAN']"
            ]
          },
          "metadata": {},
          "execution_count": 4
        }
      ]
    },
    {
      "cell_type": "markdown",
      "source": [
        "Immutable Objects\n",
        "\n",
        "Immutable objects cannot be modified after they are created. Any attempt to change an immutable object results in the creation of a new object."
      ],
      "metadata": {
        "id": "Jz0j7GnRex33"
      }
    },
    {
      "cell_type": "code",
      "source": [
        "b = \"pwskills\""
      ],
      "metadata": {
        "id": "ez6Q9EeLe3QY"
      },
      "execution_count": null,
      "outputs": []
    },
    {
      "cell_type": "code",
      "source": [
        "b[1] = \"I\""
      ],
      "metadata": {
        "colab": {
          "base_uri": "https://localhost:8080/",
          "height": 143
        },
        "id": "57d5qZeAfAG7",
        "outputId": "10c21d2f-a859-4a75-cd14-c76a549ac892"
      },
      "execution_count": null,
      "outputs": [
        {
          "output_type": "error",
          "ename": "NameError",
          "evalue": "name 'b' is not defined",
          "traceback": [
            "\u001b[0;31m---------------------------------------------------------------------------\u001b[0m",
            "\u001b[0;31mNameError\u001b[0m                                 Traceback (most recent call last)",
            "\u001b[0;32m<ipython-input-5-bcf67e0ead8c>\u001b[0m in \u001b[0;36m<cell line: 1>\u001b[0;34m()\u001b[0m\n\u001b[0;32m----> 1\u001b[0;31m \u001b[0mb\u001b[0m\u001b[0;34m[\u001b[0m\u001b[0;36m1\u001b[0m\u001b[0;34m]\u001b[0m \u001b[0;34m=\u001b[0m \u001b[0;34m\"I\"\u001b[0m\u001b[0;34m\u001b[0m\u001b[0;34m\u001b[0m\u001b[0m\n\u001b[0m",
            "\u001b[0;31mNameError\u001b[0m: name 'b' is not defined"
          ]
        }
      ]
    },
    {
      "cell_type": "markdown",
      "source": [
        "#Q4.Discuss the different types of operators in Python and provide examples of how they are used?  \n",
        "\n",
        "ANS:In Python, operators are special symbols that perform operations on variables and values. They can be categorized into several types, each serving different purposes.\n",
        "1. Arithmetic Operators\n",
        "2. Comparison Operators\n",
        "3. Logical Operators\n",
        "4. Assignment Operators\n",
        "5. Bitwise Operators\n",
        "6. Identity Operators\n",
        "7.Membership Operators"
      ],
      "metadata": {
        "id": "qddrEGlhflPQ"
      }
    },
    {
      "cell_type": "code",
      "source": [
        "#Example of Python Arithmetic Operators\n",
        "a = 21\n",
        "b = 10\n",
        "# Addition\n",
        "print (\"a + b : \", a + b)\n",
        "# Subtraction\n",
        "print (\"a - b : \", a - b)\n",
        "# Multiplication\n",
        "print (\"a * b : \", a * b)\n",
        "# Division\n",
        "print (\"a / b : \", a / b)\n",
        "# Modulus\n",
        "print (\"a % b : \", a % b)\n",
        "# Exponent\n",
        "print (\"a ** b : \", a ** b)\n",
        "# Floor Division\n",
        "print (\"a // b : \", a // b)"
      ],
      "metadata": {
        "colab": {
          "base_uri": "https://localhost:8080/"
        },
        "id": "M6yQA5V1ipZQ",
        "outputId": "36400a5c-92ac-4ce9-af85-6dcafebfe22f"
      },
      "execution_count": null,
      "outputs": [
        {
          "output_type": "stream",
          "name": "stdout",
          "text": [
            "a + b :  31\n",
            "a - b :  11\n",
            "a * b :  210\n",
            "a / b :  2.1\n",
            "a % b :  1\n",
            "a ** b :  16679880978201\n",
            "a // b :  2\n"
          ]
        }
      ]
    },
    {
      "cell_type": "code",
      "source": [
        "# Python Comparison Operators\n",
        "a = 4\n",
        "b = 5\n",
        "# Equal\n",
        "print (\"a == b : \", a == b)\n",
        "# Not Equal\n",
        "print (\"a != b : \", a != b)\n",
        "# Greater Than\n",
        "print (\"a > b : \", a > b)\n",
        "# Less Than\n",
        "print (\"a < b : \", a < b)\n",
        "# Greater Than or Equal to\n",
        "print (\"a >= b : \", a >= b)\n",
        "# Less Than or Equal to\n",
        "print (\"a <= b : \", a <= b)"
      ],
      "metadata": {
        "colab": {
          "base_uri": "https://localhost:8080/"
        },
        "id": "hi6JI4tbjd7H",
        "outputId": "dbbd104b-3c66-4466-c07e-6b965af79893"
      },
      "execution_count": null,
      "outputs": [
        {
          "output_type": "stream",
          "name": "stdout",
          "text": [
            "a == b :  False\n",
            "a != b :  True\n",
            "a > b :  False\n",
            "a < b :  True\n",
            "a >= b :  False\n",
            "a <= b :  True\n"
          ]
        }
      ]
    },
    {
      "cell_type": "code",
      "source": [
        "# Python Logical Operators\n",
        "x = 5\n",
        "y = 10\n",
        "if x > 3 and y < 15:\n",
        "  print(\"Both x and y are within the specified range\")"
      ],
      "metadata": {
        "colab": {
          "base_uri": "https://localhost:8080/"
        },
        "id": "blEyJ4qhjuAw",
        "outputId": "1b29d70e-fb10-4da8-8804-c3fdd9d54a68"
      },
      "execution_count": null,
      "outputs": [
        {
          "output_type": "stream",
          "name": "stdout",
          "text": [
            "Both x and y are within the specified range\n"
          ]
        }
      ]
    },
    {
      "cell_type": "code",
      "source": [
        "#Python Assignment Operators\n",
        "# Assignment Operator\n",
        "a = 10\n",
        "# Addition Assignment\n",
        "a += 5\n",
        "print (\"a += 5 : \", a)\n",
        "# Subtraction Assignment\n",
        "a -= 5\n",
        "print (\"a -= 5 : \", a)\n",
        "# Multiplication Assignment\n",
        "a *= 5\n",
        "print (\"a *= 5 : \", a)\n",
        "# Division Assignment\n",
        "a /= 5\n",
        "print (\"a /= 5 : \",a)\n",
        "# Remainder Assignment\n",
        "a %= 3\n",
        "print (\"a %= 3 : \", a)\n",
        "# Exponent Assignment\n",
        "a **= 2\n",
        "print (\"a **= 2 : \", a)\n",
        "# Floor Division Assignment\n",
        "a //= 3\n",
        "print (\"a //= 3 : \", a)"
      ],
      "metadata": {
        "colab": {
          "base_uri": "https://localhost:8080/"
        },
        "id": "qiSH9sZvj41v",
        "outputId": "cdc070c4-13f3-4e61-9894-f66347de7e81"
      },
      "execution_count": null,
      "outputs": [
        {
          "output_type": "stream",
          "name": "stdout",
          "text": [
            "a += 5 :  15\n",
            "a -= 5 :  10\n",
            "a *= 5 :  50\n",
            "a /= 5 :  10.0\n",
            "a %= 3 :  1.0\n",
            "a **= 2 :  1.0\n",
            "a //= 3 :  0.0\n"
          ]
        }
      ]
    },
    {
      "cell_type": "code",
      "source": [
        "#Python Bitwise Operators\n",
        "a = 60 # 60 = 0011 1100\n",
        "b = 13 # 13 = 0000 1101\n",
        "# Binary AND\n",
        "c = a & b # 12 = 0000 1100\n",
        "print (\"a & b : \", c)\n",
        "# Binary OR\n",
        "c = a | b # 61 = 0011 1101\n",
        "print (\"a | b : \", c)\n",
        "# Binary XOR\n",
        "c = a ^ b # 49 = 0011 0001\n",
        "print (\"a ^ b : \", c)\n",
        "# Binary Ones Complement\n",
        "c = ~a; # -61 = 1100 0011\n",
        "print (\"~a : \", c)\n",
        "# Binary Left Shift\n",
        "c = a << 2; # 240 = 1111 0000\n",
        "print (\"a << 2 : \", c)\n",
        "# Binary Right Shift\n",
        "c = a >> 2; # 15 = 0000 1111\n",
        "print (\"a >> 2 : \", c)"
      ],
      "metadata": {
        "colab": {
          "base_uri": "https://localhost:8080/"
        },
        "id": "XyY6imyPkN0Z",
        "outputId": "e8127ac4-1131-4326-cda4-e18d30dd819f"
      },
      "execution_count": null,
      "outputs": [
        {
          "output_type": "stream",
          "name": "stdout",
          "text": [
            "a & b :  12\n",
            "a | b :  61\n",
            "a ^ b :  49\n",
            "~a :  -61\n",
            "a << 2 :  240\n",
            "a >> 2 :  15\n"
          ]
        }
      ]
    },
    {
      "cell_type": "code",
      "source": [
        "# Python Identity Operators\n",
        "x = 10\n",
        "y = 5\n",
        "if x is y:\n",
        "    print(\"x and y are the same object\")\n",
        "else:\n",
        "    print(\"x and y are not the same object\")"
      ],
      "metadata": {
        "colab": {
          "base_uri": "https://localhost:8080/"
        },
        "id": "Y_LMsMWIi-CT",
        "outputId": "149728fb-8db1-4fa6-f1c8-3dec8ac3d939"
      },
      "execution_count": null,
      "outputs": [
        {
          "output_type": "stream",
          "name": "stdout",
          "text": [
            "x and y are not the same object\n"
          ]
        }
      ]
    },
    {
      "cell_type": "code",
      "source": [
        "#Python Membership Operators\n",
        "CAR = [\"TATA\", \"TOYTA\", \"BMW\"]\n",
        "if \"TATA\" in CAR:\n",
        "    print(\"Yes, TATA is a CAR!\")\n",
        "else:\n",
        "    print(\"No, TATA is not a CAR!\")"
      ],
      "metadata": {
        "colab": {
          "base_uri": "https://localhost:8080/"
        },
        "id": "VLoqJiK4jXIc",
        "outputId": "91090391-aeca-4978-899e-e7cf2084e80e"
      },
      "execution_count": null,
      "outputs": [
        {
          "output_type": "stream",
          "name": "stdout",
          "text": [
            "Yes, TATA is a CAR!\n"
          ]
        }
      ]
    },
    {
      "cell_type": "code",
      "source": [
        "my_list = [1, 2, 3, 4]\n",
        "print(3 in my_list)\n",
        "print(5 not in my_list)"
      ],
      "metadata": {
        "colab": {
          "base_uri": "https://localhost:8080/"
        },
        "id": "IZR5iMt4lUA7",
        "outputId": "3b4e357d-9a62-44a8-8651-c3ddff0e3972"
      },
      "execution_count": null,
      "outputs": [
        {
          "output_type": "stream",
          "name": "stdout",
          "text": [
            "True\n",
            "True\n"
          ]
        }
      ]
    },
    {
      "cell_type": "markdown",
      "source": [
        "#Q5.Explain the concept of type casting in Python with examples?\n",
        "\n",
        "ANS:Type casting in Python refers to the conversion of one data type into another. This can be useful when you need to perform operations that require specific data types, or when you want to ensure that your data is in the correct format for processing."
      ],
      "metadata": {
        "id": "7xG_xy6zlv6n"
      }
    },
    {
      "cell_type": "code",
      "source": [
        "x = 5\n",
        "y = 2.0\n",
        "z = x + y\n",
        "print(z)"
      ],
      "metadata": {
        "colab": {
          "base_uri": "https://localhost:8080/"
        },
        "id": "O5AaG7Itlvep",
        "outputId": "204dd9d8-3a89-475c-b59e-ff8be810b9cd"
      },
      "execution_count": null,
      "outputs": [
        {
          "output_type": "stream",
          "name": "stdout",
          "text": [
            "7.0\n"
          ]
        }
      ]
    },
    {
      "cell_type": "code",
      "source": [
        "num_str = \"10\"\n",
        "int(num_str)\n",
        "print(num_int)"
      ],
      "metadata": {
        "colab": {
          "base_uri": "https://localhost:8080/"
        },
        "id": "xPxzhZhJnbs3",
        "outputId": "d3cb3523-6d13-42da-c36a-314cecae3f59"
      },
      "execution_count": null,
      "outputs": [
        {
          "output_type": "stream",
          "name": "stdout",
          "text": [
            "10\n"
          ]
        }
      ]
    },
    {
      "cell_type": "code",
      "source": [
        "a = 2\n",
        "b = float(a)\n",
        "b"
      ],
      "metadata": {
        "colab": {
          "base_uri": "https://localhost:8080/"
        },
        "id": "MtKwCIFVnj_B",
        "outputId": "1a30b143-3a52-4a1d-c41e-15245d8d6ed6"
      },
      "execution_count": null,
      "outputs": [
        {
          "output_type": "execute_result",
          "data": {
            "text/plain": [
              "2.0"
            ]
          },
          "metadata": {},
          "execution_count": 21
        }
      ]
    },
    {
      "cell_type": "markdown",
      "source": [
        "#Q6.How do conditional statements work in Python? Illustrate with examples?\n",
        "\n",
        "ANS:Conditional statements in Python allow you to execute different blocks of code based on certain conditions. The most common conditional statements are if, elif, and else."
      ],
      "metadata": {
        "id": "I9vEbCrNpJli"
      }
    },
    {
      "cell_type": "code",
      "source": [
        "age = 18\n",
        "if age >= 18:\n",
        "    print(\"You are eligible to vote.\")"
      ],
      "metadata": {
        "colab": {
          "base_uri": "https://localhost:8080/"
        },
        "id": "9mEgBmOonqPU",
        "outputId": "85e34191-a7c0-427d-a8ee-4376d00bf61c"
      },
      "execution_count": null,
      "outputs": [
        {
          "output_type": "stream",
          "name": "stdout",
          "text": [
            "You are eligible to vote.\n"
          ]
        }
      ]
    },
    {
      "cell_type": "code",
      "source": [
        "age = 16\n",
        "if age >= 18:\n",
        "    print(\"You are eligible to vote.\")\n",
        "else:\n",
        "    print(\"You are not eligible to vote.\")"
      ],
      "metadata": {
        "colab": {
          "base_uri": "https://localhost:8080/"
        },
        "id": "Z_I5gH_eCdCu",
        "outputId": "8a187420-83de-4722-8795-36b1be11afd3"
      },
      "execution_count": null,
      "outputs": [
        {
          "output_type": "stream",
          "name": "stdout",
          "text": [
            "You are not eligible to vote.\n"
          ]
        }
      ]
    },
    {
      "cell_type": "code",
      "source": [
        "age = 20\n",
        "if age < 13:\n",
        "    print(\"You are a child.\")\n",
        "elif age < 18:\n",
        "    print(\"You are a teenager.\")\n",
        "else:\n",
        "    print(\"You are an adult.\")"
      ],
      "metadata": {
        "colab": {
          "base_uri": "https://localhost:8080/"
        },
        "id": "Ij0M9CM-Ccy-",
        "outputId": "9e2c5d9c-8c6a-442d-c46d-07e1828fd901"
      },
      "execution_count": null,
      "outputs": [
        {
          "output_type": "stream",
          "name": "stdout",
          "text": [
            "You are an adult.\n"
          ]
        }
      ]
    },
    {
      "cell_type": "markdown",
      "source": [
        "## Describe the different types of loops in Python and their use cases with examples?\n",
        "\n",
        "ANS=In Python, loops are used to execute a block of code repeatedly based on a condition.\n",
        "There are primarily two types of loops: for loops and while loops.\n"
      ],
      "metadata": {
        "id": "TBq5vquS44op"
      }
    },
    {
      "cell_type": "markdown",
      "source": [
        "#1.For Loops\n",
        "\n",
        "#ANS= A for loop is used to iterate over a sequence (like a list, tuple, dictionary, set, or string). It executes a block of code for each item in the sequence."
      ],
      "metadata": {
        "id": "elO-15n--2Tc"
      }
    },
    {
      "cell_type": "code",
      "source": [
        "a = \"pwskills\"\n",
        "for i in a:\n",
        "    print(i)"
      ],
      "metadata": {
        "colab": {
          "base_uri": "https://localhost:8080/"
        },
        "id": "VjzwNzfG-iMS",
        "outputId": "e3d00e58-ed0d-4340-94d8-e8f0750b247a"
      },
      "execution_count": null,
      "outputs": [
        {
          "output_type": "stream",
          "name": "stdout",
          "text": [
            "p\n",
            "w\n",
            "s\n",
            "k\n",
            "i\n",
            "l\n",
            "l\n",
            "s\n"
          ]
        }
      ]
    },
    {
      "cell_type": "markdown",
      "source": [
        "2. While Loops\n",
        "\n",
        "A while loop repeatedly executes a block of code as long as a specified condition is True."
      ],
      "metadata": {
        "id": "uamEF0cE-4qz"
      }
    },
    {
      "cell_type": "code",
      "source": [
        "n = 7\n",
        "i = 1\n",
        "while i < n:\n",
        "    print(i)\n",
        "    i = i+1"
      ],
      "metadata": {
        "colab": {
          "base_uri": "https://localhost:8080/"
        },
        "id": "_kKuNHjm-_pU",
        "outputId": "70eb9239-b7d6-4317-a94b-9442215a0fe1"
      },
      "execution_count": null,
      "outputs": [
        {
          "output_type": "stream",
          "name": "stdout",
          "text": [
            "1\n",
            "2\n",
            "3\n",
            "4\n",
            "5\n",
            "6\n"
          ]
        }
      ]
    }
  ]
}